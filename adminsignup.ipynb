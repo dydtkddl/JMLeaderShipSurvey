{
 "cells": [
  {
   "cell_type": "code",
   "execution_count": 7,
   "metadata": {},
   "outputs": [
    {
     "name": "stdout",
     "output_type": "stream",
     "text": [
      "Sign up successful: {'message': 'success'}\n"
     ]
    }
   ],
   "source": [
    "import requests\n",
    "import json\n",
    "\n",
    "# url = 'http://127.0.0.1:8000/adminsignup_backend/'\n",
    "url = 'https://jmleadership.pythonanywhere.com/adminsignup_backend/'\n",
    "data = {\n",
    "    \"userid\": \"adminchoi\",\n",
    "    \"password\": \"adminchoi\"\n",
    "}\n",
    "\n",
    "headers = {\n",
    "    'Content-Type': 'application/json'\n",
    "}\n",
    "\n",
    "response = requests.post(url, data=json.dumps(data), headers=headers)\n",
    "\n",
    "try:\n",
    "    response_data = response.json()\n",
    "    if response.status_code == 200:\n",
    "        print(\"Sign up successful:\", response_data)\n",
    "    elif response.status_code == 201:\n",
    "        print(\"User ID already exists:\", response_data)\n",
    "    else:\n",
    "        print(\"Error:\", response.status_code, response_data)\n",
    "except json.JSONDecodeError:\n",
    "    print(\"Response content is not valid JSON:\")\n",
    "    print(response.text)\n"
   ]
  },
  {
   "cell_type": "code",
   "execution_count": null,
   "metadata": {},
   "outputs": [],
   "source": []
  }
 ],
 "metadata": {
  "kernelspec": {
   "display_name": "BERT_RANKING_NEN3.8",
   "language": "python",
   "name": "python3"
  },
  "language_info": {
   "codemirror_mode": {
    "name": "ipython",
    "version": 3
   },
   "file_extension": ".py",
   "mimetype": "text/x-python",
   "name": "python",
   "nbconvert_exporter": "python",
   "pygments_lexer": "ipython3",
   "version": "3.8.19"
  }
 },
 "nbformat": 4,
 "nbformat_minor": 2
}
